{
 "cells": [
  {
   "cell_type": "code",
   "execution_count": 1,
   "id": "7215f26a",
   "metadata": {},
   "outputs": [
    {
     "name": "stdout",
     "output_type": "stream",
     "text": [
      "Requirement already satisfied: cryptography in ./anaconda3/lib/python3.9/site-packages (3.4.8)\n",
      "Requirement already satisfied: cffi>=1.12 in ./anaconda3/lib/python3.9/site-packages (from cryptography) (1.15.0)\n",
      "Requirement already satisfied: pycparser in ./anaconda3/lib/python3.9/site-packages (from cffi>=1.12->cryptography) (2.21)\n",
      "Note: you may need to restart the kernel to use updated packages.\n"
     ]
    }
   ],
   "source": [
    "pip install cryptography"
   ]
  },
  {
   "cell_type": "code",
   "execution_count": 3,
   "id": "3dff4fb2",
   "metadata": {},
   "outputs": [
    {
     "data": {
      "text/plain": [
       "b'A really secret message. Not for prying eyes.'"
      ]
     },
     "execution_count": 3,
     "metadata": {},
     "output_type": "execute_result"
    }
   ],
   "source": [
    "from cryptography.fernet import Fernet\n",
    ">>> # Put this somewhere safe!\n",
    ">>> key = Fernet.generate_key()\n",
    ">>> f = Fernet(key)\n",
    ">>> token = f.encrypt(b\"A really secret message. Not for prying eyes.\")\n",
    ">>> token\n",
    "b'...'\n",
    ">>> f.decrypt(token)\n",
    "b'A really secret message. Not for prying eyes.'"
   ]
  },
  {
   "cell_type": "code",
   "execution_count": 5,
   "id": "15c29bf6",
   "metadata": {},
   "outputs": [
    {
     "name": "stdout",
     "output_type": "stream",
     "text": [
      "b'gAAAAABjKjAZwpkgiskJX9K3OJJ34pHxkeTNY_OcbcQSQ5FiN436xWgXXXRhO5koDr60JYqkbQ92YPxnyWKQHKiOrQAdC7ULFOatMAlXX4DMul1Z_MPcWJ4='\n",
      "b'welcome to ist4320'\n"
     ]
    }
   ],
   "source": [
    "# Fernet module is imported from the \n",
    "# cryptography package\n",
    "from cryptography.fernet import Fernet\n",
    "  \n",
    "# key is generated\n",
    "key = Fernet.generate_key()\n",
    "  \n",
    "# value of key is assigned to a variable\n",
    "f = Fernet(key)\n",
    "  \n",
    "# the plaintext is converted to ciphertext\n",
    "token = f.encrypt(b\"welcome to ist4320\")\n",
    "  \n",
    "# display the ciphertext\n",
    "print(token)\n",
    "  \n",
    "# decrypting the ciphertext\n",
    "c = f.decrypt(token)\n",
    "  \n",
    "# display the plaintext\n",
    "print(c)"
   ]
  },
  {
   "cell_type": "code",
   "execution_count": null,
   "id": "5146ee92",
   "metadata": {},
   "outputs": [],
   "source": []
  },
  {
   "cell_type": "code",
   "execution_count": 6,
   "id": "2b31802d",
   "metadata": {},
   "outputs": [
    {
     "name": "stdout",
     "output_type": "stream",
     "text": [
      "b'gAAAAABjKjCvq91P7AKxGHSsQ09EpwhYcyZJifQmGxX248V1F3eVUr3KGxjigXh-3CJzo9i9sAwzgW64VCHkOCGlvwUNXYuR23ALgBXZivTFiJfnTHx5Uu0='\n",
      "this message is encrypted\n"
     ]
    }
   ],
   "source": [
    "# Fernet module is imported from the \n",
    "# cryptography package\n",
    "from cryptography.fernet import Fernet\n",
    "  \n",
    "  \n",
    "# key is generated\n",
    "key = Fernet.generate_key()\n",
    "  \n",
    "# value of key is assigned to a variable\n",
    "f = Fernet(key)\n",
    "  \n",
    "# the plaintext is converted to ciphertext\n",
    "token = f.encrypt(b\"this message is encrypted\")\n",
    "  \n",
    "# display the ciphertext\n",
    "print(token)\n",
    "  \n",
    "# decrypting the ciphertext\n",
    "d = f.decrypt(token)\n",
    "  \n",
    "# display the plaintext and the decode() method \n",
    "# converts it from byte to string\n",
    "print(d.decode())"
   ]
  },
  {
   "cell_type": "code",
   "execution_count": null,
   "id": "73772142",
   "metadata": {},
   "outputs": [],
   "source": []
  }
 ],
 "metadata": {
  "kernelspec": {
   "display_name": "Python 3 (ipykernel)",
   "language": "python",
   "name": "python3"
  },
  "language_info": {
   "codemirror_mode": {
    "name": "ipython",
    "version": 3
   },
   "file_extension": ".py",
   "mimetype": "text/x-python",
   "name": "python",
   "nbconvert_exporter": "python",
   "pygments_lexer": "ipython3",
   "version": "3.9.12"
  }
 },
 "nbformat": 4,
 "nbformat_minor": 5
}
